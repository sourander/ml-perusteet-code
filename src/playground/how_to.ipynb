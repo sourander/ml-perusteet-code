{
 "cells": [
  {
   "cell_type": "markdown",
   "metadata": {},
   "source": [
    "# How to ML\n",
    "\n",
    "To practice with any libraries in `./src/ml/*` directory, make sure that you have created a `./.venv/` Python virtual environment and installed the `pip install -e .` package into it.\n",
    "\n",
    "* Choose the Kernel (in VS Code, it is in the top-right corner of any Jupyter Notebook)\n",
    "* Add first cell that makes the imports updatable"
   ]
  },
  {
   "cell_type": "markdown",
   "metadata": {},
   "source": [
    "## How to react to changes in the ml library\n",
    "\n",
    "Note that if you change the ml library, you need to reload the library. This can be done in at least three ways:\n",
    "\n",
    "1. Using `autoreload` magic\n",
    "1. Restart the kernel of the Jupyter Notebook\n",
    "2. Use the `reload` function from the `importlib` library\n",
    "\n",
    "If the `autoreload` gives you trouble, revert to the other two options."
   ]
  },
  {
   "cell_type": "code",
   "execution_count": 5,
   "metadata": {},
   "outputs": [
    {
     "name": "stdout",
     "output_type": "stream",
     "text": [
      "The autoreload extension is already loaded. To reload it, use:\n",
      "  %reload_ext autoreload\n"
     ]
    }
   ],
   "source": [
    "%load_ext autoreload\n",
    "%autoreload 2"
   ]
  },
  {
   "cell_type": "markdown",
   "metadata": {},
   "source": [
    "## Imports"
   ]
  },
  {
   "cell_type": "code",
   "execution_count": 6,
   "metadata": {},
   "outputs": [],
   "source": [
    "from ml.vector import Vector"
   ]
  },
  {
   "cell_type": "markdown",
   "metadata": {},
   "source": [
    "## Have fun!"
   ]
  },
  {
   "cell_type": "code",
   "execution_count": 11,
   "metadata": {},
   "outputs": [
    {
     "name": "stdout",
     "output_type": "stream",
     "text": [
      "(43, 44, 45)\n",
      "(41, 40, 39)\n"
     ]
    }
   ],
   "source": [
    "u = Vector(42, 42, 42)\n",
    "v = Vector(1, 2, 3)\n",
    "\n",
    "print(u + v)\n",
    "print(u - v)"
   ]
  }
 ],
 "metadata": {
  "kernelspec": {
   "display_name": ".venv",
   "language": "python",
   "name": "python3"
  },
  "language_info": {
   "codemirror_mode": {
    "name": "ipython",
    "version": 3
   },
   "file_extension": ".py",
   "mimetype": "text/x-python",
   "name": "python",
   "nbconvert_exporter": "python",
   "pygments_lexer": "ipython3",
   "version": "3.11.8"
  }
 },
 "nbformat": 4,
 "nbformat_minor": 2
}
